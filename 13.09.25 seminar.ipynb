{
 "cells": [
  {
   "cell_type": "markdown",
   "id": "6b58db1c",
   "metadata": {},
   "source": [
    "13.09.2025\n",
    "Разложение функции cos в ряд Тейлора"
   ]
  },
  {
   "cell_type": "code",
   "execution_count": null,
   "id": "16d7917c",
   "metadata": {},
   "outputs": [],
   "source": [
    "import math\n",
    "def Taylors_row(x:float, epsilon: float = 1e-10) -> float:\n",
    "    func = math.cos(x)\n",
    "    row = \n",
    "\n",
    "\n",
    "f = Taylors_row()\n",
    "    \n",
    "\n"
   ]
  }
 ],
 "metadata": {
  "language_info": {
   "name": "python"
  }
 },
 "nbformat": 4,
 "nbformat_minor": 5
}
