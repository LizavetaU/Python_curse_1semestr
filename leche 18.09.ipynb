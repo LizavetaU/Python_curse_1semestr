{
 "cells": [
  {
   "cell_type": "code",
   "execution_count": 2,
   "id": "20295223",
   "metadata": {},
   "outputs": [
    {
     "name": "stderr",
     "output_type": "stream",
     "text": [
      "Exception ignored in: <function Figure.__del__ at 0x00000240F10D1940>\n",
      "Traceback (most recent call last):\n",
      "  File \"C:\\Users\\Елизавета\\AppData\\Local\\Temp\\ipykernel_17112\\521718372.py\", line 18, in __del__\n",
      "AttributeError: 'super' object has no attribute '__del__'\n"
     ]
    },
    {
     "name": "stdout",
     "output_type": "stream",
     "text": [
      "создание класса <class '__main__.Figure'>\n",
      "delet <__main__.Figure object at 0x00000240F10C3080>\n"
     ]
    },
    {
     "data": {
      "text/plain": [
       "<method '__dir__' of 'object' objects>"
      ]
     },
     "execution_count": 2,
     "metadata": {},
     "output_type": "execute_result"
    }
   ],
   "source": [
    "class Figure():\n",
    "    flag_1 = None\n",
    "    \"\"\"этот класс необходим, чтобы создавать фигуры\"\"\"\n",
    "    def __new__(cls, *args, **kwargs):\n",
    "        print(\"создание класса\", cls)\n",
    "        if cls.flag_1 == None:\n",
    "            cls.flag_1 = super().__new__(cls)\n",
    "        return cls.flag_1\n",
    "    def __init__(self, x = 0, y = 0):\n",
    "        self.x = x\n",
    "        self.y = y\n",
    "    def draw(self):\n",
    "        print(\"рисуем фигуру\")\n",
    "    color = 'black'\n",
    "    color_line = 'yellow'\n",
    "    def __del__(self):\n",
    "        print('delet', self)\n",
    "        return super().__del__(self)\n",
    "class Rect():\n",
    "    def draw(self):\n",
    "        print(\"рисуем прямоугольник\")\n",
    "\n",
    "fig_1 = Figure()\n",
    "object.__dir__"
   ]
  },
  {
   "cell_type": "code",
   "execution_count": 35,
   "id": "893288b8",
   "metadata": {},
   "outputs": [
    {
     "ename": "TypeError",
     "evalue": "'property' object is not callable",
     "output_type": "error",
     "traceback": [
      "\u001b[1;31m---------------------------------------------------------------------------\u001b[0m",
      "\u001b[1;31mTypeError\u001b[0m                                 Traceback (most recent call last)",
      "Cell \u001b[1;32mIn[35], line 25\u001b[0m\n\u001b[0;32m     23\u001b[0m fig_1 \u001b[38;5;241m=\u001b[39m Figure(\u001b[38;5;241m228\u001b[39m, \u001b[38;5;241m10\u001b[39m)\n\u001b[0;32m     24\u001b[0m \u001b[38;5;66;03m#print(fig_1.x1)\u001b[39;00m\n\u001b[1;32m---> 25\u001b[0m fig_1\u001b[38;5;241m.\u001b[39mx1 \u001b[38;5;241m=\u001b[39m \u001b[38;5;241m5\u001b[39m\n\u001b[0;32m     26\u001b[0m \u001b[38;5;28mprint\u001b[39m(fig_1\u001b[38;5;241m.\u001b[39mx1)\n\u001b[0;32m     27\u001b[0m fig_1\u001b[38;5;241m.\u001b[39m\u001b[38;5;18m__dict__\u001b[39m\n",
      "\u001b[1;31mTypeError\u001b[0m: 'property' object is not callable"
     ]
    }
   ],
   "source": [
    "class Figure():\n",
    "\n",
    "\n",
    "    def __init__(self, x = 0, y = 0):\n",
    "        self.__x = x\n",
    "\n",
    "    @property\n",
    "    def get_coordinates(self):\n",
    "        return self.__x\n",
    "    @get_coordinates.setter\n",
    "    def set_coordinates(self, x):\n",
    "        if self.__check(x):\n",
    "            self.__x = x\n",
    "        else: raise TypeError (\"неверный тип\")\n",
    "    @classmethod\n",
    "    def __check(cls, x):\n",
    "        return type(x) in (float, int)\n",
    "    x1 = property()\n",
    "    x1 = x1.setter(set_coordinates)\n",
    "    x1 = x1.getter(get_coordinates)\n",
    "\n",
    "\n",
    "fig_1 = Figure(228, 10)\n",
    "#print(fig_1.x1)\n",
    "fig_1.x1 = 5\n",
    "print(fig_1.x1)\n",
    "fig_1.__dict__\n",
    "fig_1.__dict__['x1'] = 6\n",
    "fig_1.__dict__\n",
    "\n"
   ]
  },
  {
   "cell_type": "code",
   "execution_count": 38,
   "id": "ec8c2d87",
   "metadata": {},
   "outputs": [],
   "source": [
    "class Numbers:\n",
    "    def __set_name__(self, owner, name):\n",
    "        self.name = \"__\" + name \n",
    "    def __set__(self, instance, value):\n",
    "        return instance.__dict__\n",
    "    def __get__(self, instance, name):\n",
    "        return instance.__dict__[self.name]\n",
    "    \n",
    "class Figure:\n",
    "    x = Numbers()\n",
    "    y = Numbers()\n",
    "    def __init__(self, x):\n",
    "        self.x = x\n"
   ]
  },
  {
   "cell_type": "code",
   "execution_count": null,
   "id": "5c69ed8b",
   "metadata": {},
   "outputs": [],
   "source": [
    "#leche\n",
    "\n",
    "def func1(x):\n",
    "    print(x)\n",
    "    func2(x-1)\n",
    "    print(x)\n",
    "\n",
    "def func2(x):\n",
    "    print(x)\n",
    "    func3(x-1)\n",
    "    print(x)\n",
    "\n",
    "def func3(x):\n",
    "    print(x)\n",
    "    print(x)\n",
    "\n",
    "func1(3)    \n",
    "\n",
    "def func(x):\n",
    "    print(x)\n",
    "\n",
    "    if x > 1:\n",
    "        func(x-1)\n",
    "    print(x)\n",
    "\n",
    "func(3)        "
   ]
  },
  {
   "cell_type": "code",
   "execution_count": null,
   "id": "02c897cc",
   "metadata": {},
   "outputs": [],
   "source": [
    "binary_tree = {'data' : 1,\n",
    "                'left': {'data': 2, \n",
    "                        'left' : {'data': 7, \n",
    "                                    'left': None}, 'right': None}, \n",
    "                        'rignt':{'data': 3, \n",
    "                                    'left': None, 'right': None}, \n",
    "                'right': {'data': 5, \n",
    "                        'left':{'data': -4,   \n",
    "                                    'left': None, 'right': None}, \n",
    "                        'right':{'data': 8,\n",
    "                                 'left': None, 'right': None} }}\n",
    "def sum_tree(node):\n",
    "    if node is None:\n",
    "        return 0\n",
    "    "
   ]
  },
  {
   "cell_type": "code",
   "execution_count": null,
   "id": "d38ceb4e",
   "metadata": {},
   "outputs": [],
   "source": [
    "def say_name(name):\n",
    "    def say_goodbye():\n",
    "        print(\"Bye \" + name)\n",
    "    return say_goodbye()\n",
    "\n",
    "f = say_name('Rodion')    \n",
    "f()"
   ]
  },
  {
   "cell_type": "code",
   "execution_count": null,
   "id": "3664f3f2",
   "metadata": {},
   "outputs": [],
   "source": [
    "def str_f(ch = \"\"):\n",
    "    def do_srtip(string):\n",
    "        return string.strip(ch)\n",
    "    return do_srtip\n",
    "\n",
    "f1 = str_f()\n",
    "print(f1(  'hello world'))"
   ]
  },
  {
   "cell_type": "code",
   "execution_count": null,
   "id": "b8735baa",
   "metadata": {},
   "outputs": [],
   "source": [
    "def func_decorator(func):\n",
    "    def wrapper():\n",
    "        print(\"before\")\n",
    "        func()\n",
    "        print('after')\n",
    "    return wrapper\n",
    "    \n",
    "def func():\n",
    "    print('func')\n",
    "\n",
    "func()\n",
    "f = func_decorator(func)\n",
    "f()\n"
   ]
  },
  {
   "cell_type": "code",
   "execution_count": null,
   "id": "1f154b2c",
   "metadata": {},
   "outputs": [],
   "source": [
    "import time\n",
    "def test_time(func):\n",
    "    def wrapper(a, b):\n",
    "        st = time.time()\n",
    "        res = func(a, b)\n",
    "        at = time.time()\n",
    "        t = at - st\n",
    "        print(t)\n",
    "        return res\n",
    "    return wrapper\n",
    "\n",
    "@test_time\n",
    "def sum(a, b):\n",
    "    return a + b\n",
    "\n",
    "def mul(a, b):\n",
    "    return a*b\n",
    "\n",
    "\n",
    "\n",
    "#f2 = test_time(mul)\n",
    "\n",
    "print(f1(5, 10))\n",
    "print(f2(5, 8))"
   ]
  },
  {
   "cell_type": "code",
   "execution_count": null,
   "id": "b4c4c077",
   "metadata": {},
   "outputs": [],
   "source": [
    "import math\n",
    "\n",
    "def df_decorat(sin_func):\n",
    "    def wrapper(x, *args, **kwargs):\n",
    "        d = 0.01\n",
    "        res = (sin_func(x + d)- sin_func(x))/2\n",
    "        return res\n",
    "    return wrapper\n",
    "\n",
    "@df_decorat\n",
    "def sin_func(x):\n",
    "    return math.sin(x)\n",
    "\n",
    "print(sin_func(math.pi/6))"
   ]
  },
  {
   "cell_type": "code",
   "execution_count": null,
   "id": "871d0303",
   "metadata": {},
   "outputs": [],
   "source": [
    "class Figure:\n",
    "    \"\"\"этот класс необходим, чтобы создавать фигуры\"\"\"\n",
    "    color = 'black'\n",
    "    color_line = 'yellow'\n",
    "\n",
    "\n",
    "Fig_1 = Figure()\n",
    "Fig_1.color = 'while'\n",
    "print(Fig_1.color)\n",
    "\n",
    "\n",
    "Fig_2 = Figure()\n",
    "print(Fig_2.color)\n",
    "\n",
    "isinstance(Fig_1, Figure)\n",
    "setattr.__doc__\n",
    "setattr(Figure, 'a', False)\n",
    "Fig_2.a\n"
   ]
  },
  {
   "cell_type": "code",
   "execution_count": null,
   "id": "feeb9ab9",
   "metadata": {},
   "outputs": [],
   "source": [
    "class Figure():\n",
    "    flag_1 = None\n",
    "    \"\"\"этот класс необходим, чтобы создавать фигуры\"\"\"\n",
    "    def __new__(cls, *args, **kwargs):\n",
    "        print(\"создание класса\", cls)\n",
    "        if cls.flag_1 == None:\n",
    "            cls.flag_1 = super().__new__(cls)\n",
    "        return cls.flag_1\n",
    "    def __init__(self, x = 0, y = 0):\n",
    "        self.x = x\n",
    "        self.y = y\n",
    "    def draw(self):\n",
    "        print(\"рисуем фигуру\")\n",
    "    color = 'black'\n",
    "    color_line = 'yellow'\n",
    "    def __del__(self):\n",
    "        print('delet', self)\n",
    "        return super().__del__(self)\n",
    "class Rect():\n",
    "    def draw(self):\n",
    "        print(\"рисуем прямоугольник\")\n",
    "class Triangle(Figure):\n",
    "    pass\n",
    "\n",
    "fig_1 = Figure()\n",
    "fig_2 = Figure()\n",
    "print(id(fig_1))\n",
    "print(id(fig_2))\n",
    "object.__dict__\n",
    "print(isinstance(fig_1, object))"
   ]
  },
  {
   "cell_type": "code",
   "execution_count": null,
   "id": "ae43ec58",
   "metadata": {},
   "outputs": [],
   "source": [
    "class Figure():\n",
    "    flag_1 = None\n",
    "    min_val = 0\n",
    "    max_val = 100\n",
    "    \"\"\"этот класс необходим, чтобы создавать фигуры\"\"\"\n",
    "    def __new__(cls, *args, **kwargs):\n",
    "        print(\"создание класса\", cls)\n",
    "        if cls.flag_1 == None:\n",
    "            cls.flag_1 = super().__new__(cls)\n",
    "        return cls.flag_1\n",
    "    def validate(cls, x):\n",
    "        if cls.min_val <= x <= cls.max_val:\n",
    "            return True\n",
    "\n",
    "    \n",
    "    def __init__(self, x = 0, y = 0):\n",
    "        if type(x) in (int, float) or type(y) in (int, float):\n",
    "        self.x = x\n",
    "        self.y = y\n",
    "\n",
    "    @classmethod\n",
    "    def draw(self):\n",
    "        print(\"рисуем фигуру\")\n",
    "    color = 'black'\n",
    "    color_line = 'yellow'\n",
    "\n",
    "    def __del__(self):\n",
    "        print('delet', self)\n",
    "        return super().__del__(self)\n",
    "\n",
    "fig_1.draw()\n",
    "Figure.draw(fig_1)\n",
    "\n"
   ]
  }
 ],
 "metadata": {
  "kernelspec": {
   "display_name": "base",
   "language": "python",
   "name": "python3"
  },
  "language_info": {
   "codemirror_mode": {
    "name": "ipython",
    "version": 3
   },
   "file_extension": ".py",
   "mimetype": "text/x-python",
   "name": "python",
   "nbconvert_exporter": "python",
   "pygments_lexer": "ipython3",
   "version": "3.12.4"
  }
 },
 "nbformat": 4,
 "nbformat_minor": 5
}
